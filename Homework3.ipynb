{
 "cells": [
  {
   "cell_type": "code",
   "execution_count": 1,
   "id": "d82606cf",
   "metadata": {},
   "outputs": [],
   "source": [
    "import numpy as np\n",
    "from numpy.linalg import det, eig"
   ]
  },
  {
   "cell_type": "markdown",
   "id": "a948d01e",
   "metadata": {},
   "source": [
    "### Задание 1.\n",
    "Найти собственные векторы и собственные значения для линейного оператора, заданного матрицей\n",
    "\n",
    "$$A=\\begin{pmatrix}\n",
    "-1 & -6\\\\ \n",
    "2 & 6\n",
    "\\end{pmatrix}.$$"
   ]
  },
  {
   "cell_type": "code",
   "execution_count": 2,
   "id": "5072a342",
   "metadata": {},
   "outputs": [],
   "source": [
    "A = np.array([[-1, -6], [2, 6]])"
   ]
  },
  {
   "cell_type": "markdown",
   "id": "de866209",
   "metadata": {},
   "source": [
    "Найдем собственные значения, путем вычитания из главной диагонали линейного оператора $\\lambda * E$:\n",
    "\n",
    "$$\\begin{vmatrix}\n",
    "-1-\\lambda & -6\\\\ \n",
    "2 & 6-\\lambda\n",
    "\\end{vmatrix} = 0,$$\n",
    "\n",
    "$$(-1-\\lambda)(6-\\lambda)-(-6)\\cdot2=0,$$\n"
   ]
  },
  {
   "cell_type": "markdown",
   "id": "4e8752a8",
   "metadata": {},
   "source": [
    "\n",
    "$$-6 + \\lambda -6\\lambda +(\\lambda)^{2} + 12=0,$$\n",
    "\n",
    "$$(\\lambda)^{2} -5\\lambda + 6=0$$\n",
    "\n",
    "Собственные значения:"
   ]
  },
  {
   "cell_type": "markdown",
   "id": "53df57da",
   "metadata": {},
   "source": [
    "$$\\lambda_1 = 2\\\\\\lambda_2=3$$"
   ]
  },
  {
   "cell_type": "markdown",
   "id": "90702c76",
   "metadata": {},
   "source": [
    "Собственные вектора:"
   ]
  },
  {
   "cell_type": "markdown",
   "id": "956b3985",
   "metadata": {},
   "source": [
    "$$\\lambda_1 = 2: $$\n",
    "$$\\begin{pmatrix}\n",
    "-1 & -6\\\\ \n",
    "2 & 6\n",
    "\\end{pmatrix}\n",
    "\\begin{pmatrix}\n",
    "x_1\\\\ \n",
    "x_2\n",
    "\\end{pmatrix}=\n",
    "2\n",
    "\\begin{pmatrix}\n",
    "x_1\\\\ \n",
    "x_2\n",
    "\\end{pmatrix}.\n",
    "$$\n"
   ]
  },
  {
   "cell_type": "markdown",
   "id": "8335e486",
   "metadata": {},
   "source": [
    "\n",
    "$$\\begin{cases}\n",
    "-x_1-6x_2=2x_1\\\\ \n",
    "2x_1+6x_2 = 2x_2\\\\\n",
    "\\end{cases}\n",
    "\\Rightarrow\n",
    "\\begin{cases}\n",
    "x_1=-2x_2\\\\ \n",
    "x_2=x_2\n",
    "\\end{cases}\\\n",
    "\\Rightarrow\n",
    "\\begin{cases}\n",
    "x_1=-2\\\\ \n",
    "x_2=1\n",
    "\\end{cases}.$$"
   ]
  },
  {
   "cell_type": "markdown",
   "id": "4d7b9c20",
   "metadata": {},
   "source": [
    "$$\\lambda_1 = 3: $$\n",
    "$$\\begin{pmatrix}\n",
    "-1 & -6\\\\ \n",
    "2 & 6\n",
    "\\end{pmatrix}\n",
    "\\begin{pmatrix}\n",
    "x_1\\\\ \n",
    "x_2\n",
    "\\end{pmatrix}=\n",
    "3\n",
    "\\begin{pmatrix}\n",
    "x_1\\\\ \n",
    "x_2\n",
    "\\end{pmatrix}.\n",
    "$$\n"
   ]
  },
  {
   "cell_type": "markdown",
   "id": "b757e7c4",
   "metadata": {},
   "source": [
    "\n",
    "$$\\begin{cases}\n",
    "-x_1-6x_2=3x_1\\\\ \n",
    "2x_1+6x_2 = 3x_2\\\\\n",
    "\\end{cases}\n",
    "\\Rightarrow\n",
    "\\begin{cases}\n",
    "x_1=-3/2x_2\\\\ \n",
    "x_2=x_2\n",
    "\\end{cases}\\\n",
    "\\Rightarrow\n",
    "\\begin{cases}\n",
    "x_1=-3/2\\\\ \n",
    "x_2=1\n",
    "\\end{cases}.$$"
   ]
  },
  {
   "cell_type": "markdown",
   "id": "d7c7a0bd",
   "metadata": {},
   "source": [
    "Собственные значения:\n",
    "\n",
    "$\\lambda_1 = 2\\\\\n",
    "\\lambda_2 = 3$\n",
    "\n",
    "Собственные вектора:\n",
    "$x_1 = (-2, 1)\\\\\n",
    "x_2 = (-3/2, 1)$"
   ]
  },
  {
   "cell_type": "markdown",
   "id": "722d5128",
   "metadata": {},
   "source": [
    "Проверим, действительно ли вектора собственные?"
   ]
  },
  {
   "cell_type": "code",
   "execution_count": 3,
   "id": "828d6f77",
   "metadata": {},
   "outputs": [],
   "source": [
    "x1 = np.array([-2, 1])\n",
    "x2 = np.array([-3/2,1])"
   ]
  },
  {
   "cell_type": "code",
   "execution_count": 4,
   "id": "4bf3c13c",
   "metadata": {},
   "outputs": [
    {
     "data": {
      "text/plain": [
       "array([ True,  True])"
      ]
     },
     "execution_count": 4,
     "metadata": {},
     "output_type": "execute_result"
    }
   ],
   "source": [
    "A.dot(x1) == 2*(x1)"
   ]
  },
  {
   "cell_type": "code",
   "execution_count": 5,
   "id": "258d4c40",
   "metadata": {
    "scrolled": true
   },
   "outputs": [
    {
     "data": {
      "text/plain": [
       "array([ True,  True])"
      ]
     },
     "execution_count": 5,
     "metadata": {},
     "output_type": "execute_result"
    }
   ],
   "source": [
    "A.dot(x2) == 3*(x2)"
   ]
  },
  {
   "cell_type": "code",
   "execution_count": 6,
   "id": "f9a2d882",
   "metadata": {
    "scrolled": true
   },
   "outputs": [
    {
     "name": "stdout",
     "output_type": "stream",
     "text": [
      "Собственные значения:\n",
      " [2. 3.]\n",
      "Собственные вектора:\n",
      " [[-0.89442719  0.83205029]\n",
      " [ 0.4472136  -0.5547002 ]]\n"
     ]
    }
   ],
   "source": [
    "w, v = eig(A)\n",
    "print('Собственные значения:\\n', w)\n",
    "print('Собственные вектора:\\n', v)"
   ]
  },
  {
   "cell_type": "markdown",
   "id": "9ec12582",
   "metadata": {},
   "source": [
    "## Задание 2.\n",
    "Дан оператор поворота на 180 градусов, задаваемый матрицей \n",
    "\n",
    "$$A=\\begin{pmatrix}\n",
    "-1 & 0\\\\ \n",
    "0 & -1\n",
    "\\end{pmatrix}.$$\n",
    "\n",
    "Показать, что __любой__ вектор является для него собственным."
   ]
  },
  {
   "cell_type": "code",
   "execution_count": 7,
   "id": "48332fe1",
   "metadata": {},
   "outputs": [],
   "source": [
    "A = np.array([[-1, 0], [0, -1]])"
   ]
  },
  {
   "cell_type": "markdown",
   "id": "5249c686",
   "metadata": {},
   "source": [
    "Зададим любой произвольный вектор, например $(-2, 1)$ и проверим чему будет равно произведение оператора на этот произвольный вектор:"
   ]
  },
  {
   "cell_type": "code",
   "execution_count": 8,
   "id": "73e00b42",
   "metadata": {},
   "outputs": [],
   "source": [
    "x = np.array([-2, 1])"
   ]
  },
  {
   "cell_type": "code",
   "execution_count": 9,
   "id": "7f0edcc2",
   "metadata": {},
   "outputs": [
    {
     "data": {
      "text/plain": [
       "array([ 2, -1])"
      ]
     },
     "execution_count": 9,
     "metadata": {},
     "output_type": "execute_result"
    }
   ],
   "source": [
    "A.dot(x)"
   ]
  },
  {
   "cell_type": "markdown",
   "id": "169db5cb",
   "metadata": {},
   "source": [
    "Судя по всему, любой вектор будет являться собственным, потому что, всегда найдется такая $\\lambda$ (равная -1), которая будет являться решением для всех произвольно взятых векторов. Попробуем найти собственное значение оператора, чтобы убедиться в нашей теории:"
   ]
  },
  {
   "cell_type": "markdown",
   "id": "5f4d62e0",
   "metadata": {},
   "source": [
    "Найдем собственные значения, путем вычитания из главной диагонали линейного оператора $\\lambda * E$:\n",
    "\n",
    "$$\\begin{vmatrix}\n",
    "-1-\\lambda & 0\\\\ \n",
    "0 & -1-\\lambda\n",
    "\\end{vmatrix} = 0,$$\n",
    "\n",
    "$$(-1-\\lambda)(-1-\\lambda)-(0)\\cdot0=0,$$\n",
    "\n",
    "$$(-1-\\lambda)(-1-\\lambda)=0,$$\n",
    "\n",
    "$$\n",
    "\\lambda_1 = \\lambda_2 = -1 \n",
    "$$\n",
    "\n",
    "\n"
   ]
  },
  {
   "cell_type": "markdown",
   "id": "19c7710d",
   "metadata": {},
   "source": [
    "Найдем собственные вектора:"
   ]
  },
  {
   "cell_type": "markdown",
   "id": "1737c23d",
   "metadata": {},
   "source": [
    "$$\\lambda_1 = -1: $$\n",
    "$$\\begin{pmatrix}\n",
    "-1 & 0\\\\ \n",
    "0 & -1\n",
    "\\end{pmatrix}\n",
    "\\begin{pmatrix}\n",
    "x_1\\\\ \n",
    "x_2\n",
    "\\end{pmatrix}=\n",
    "-1\n",
    "\\begin{pmatrix}\n",
    "x_1\\\\ \n",
    "x_2\n",
    "\\end{pmatrix}.\n",
    "$$\n",
    "\n"
   ]
  },
  {
   "cell_type": "markdown",
   "id": "0c0a686a",
   "metadata": {},
   "source": [
    "\n",
    "$$\\begin{cases}\n",
    "-x_1=-x_1\\\\ \n",
    "-x_2 =-x_2\\\\\n",
    "\\end{cases}\n",
    "\\Rightarrow\n",
    "\\begin{cases}\n",
    "x_1=\\forall x_1\\\\\n",
    "x_2=\\forall x_2\n",
    "\\end{cases}\n",
    "$$\n",
    "\n",
    "Что и требовалось доказать."
   ]
  },
  {
   "cell_type": "markdown",
   "id": "c462692e",
   "metadata": {},
   "source": [
    "## Задание 3.\n",
    "Пусть линейный оператор задан матрицей\n",
    "\n",
    "$$A=\\begin{pmatrix}\n",
    "1 & 1\\\\ \n",
    "-1 & 3\n",
    "\\end{pmatrix}.$$\n",
    "\n",
    "Установить, является ли вектор $x=(1,1)$ собственным вектором этого линейного оператора."
   ]
  },
  {
   "cell_type": "markdown",
   "id": "fbd0f2ec",
   "metadata": {},
   "source": [
    "$$\\lambda_1 = ?: $$\n",
    "$$\\begin{pmatrix}\n",
    "-1 & 1\\\\ \n",
    "-1 & 3\n",
    "\\end{pmatrix}\n",
    "\\begin{pmatrix}\n",
    "1\\\\ \n",
    "1\n",
    "\\end{pmatrix}=\n",
    "\\lambda\n",
    "\\begin{pmatrix}\n",
    "1\\\\ \n",
    "1\n",
    "\\end{pmatrix}.\n",
    "$$"
   ]
  },
  {
   "cell_type": "markdown",
   "id": "f8bdc4e1",
   "metadata": {},
   "source": [
    "$$\\Rightarrow\n",
    "\\begin{cases}\n",
    "\\lambda=0\\\\ \n",
    "\\lambda=2\n",
    "\\end{cases}\n",
    "\\Rightarrow\n",
    "\\lambda\\nexists\n",
    "$$"
   ]
  },
  {
   "cell_type": "markdown",
   "id": "cdf63f46",
   "metadata": {},
   "source": [
    "Одновременно не можем быть два значения $\\lambda$ для одного собственного вектора."
   ]
  },
  {
   "cell_type": "markdown",
   "id": "0091e111",
   "metadata": {},
   "source": [
    "## Задание 4.\n",
    "Пусть линейный оператор задан матрицей\n",
    "\n",
    "$$A=\\begin{pmatrix} 0 & 3 & 0\\\\ 3 & 0 & 0\\\\ 0 & 0 & 3 \\end{pmatrix}.$$\n",
    "\n",
    "Установить, является ли вектор $x=(3, -3, -4)$ собственным вектором этого линейного оператора."
   ]
  },
  {
   "cell_type": "markdown",
   "id": "63968f71",
   "metadata": {},
   "source": [
    "$$\\begin{pmatrix}\n",
    "0 & 3 & 0\\\\ \n",
    "3 & 0 & 0\\\\\n",
    "0 & 0 & 3\n",
    "\\end{pmatrix}\n",
    "\\begin{pmatrix}\n",
    "3\\\\\n",
    "-3\\\\\n",
    "-4\n",
    "\\end{pmatrix}=\n",
    "\\lambda\n",
    "\\begin{pmatrix}\n",
    "3\\\\\n",
    "-3\\\\\n",
    "-4\n",
    "\\end{pmatrix}\n",
    "$$\n",
    "\n",
    "$$\\Rightarrow\n",
    "\\begin{cases}\n",
    "3\\lambda=-9\\\\ \n",
    "-3\\lambda=9\\\\\n",
    "-4\\lambda=-12\n",
    "\\end{cases}\n",
    "\\Rightarrow\n",
    "\\begin{cases}\n",
    "\\lambda=3.\\\\\n",
    "\\lambda=-3\n",
    "\\end{cases}\n",
    "\\Rightarrow\n",
    "\\lambda\\nexists\n",
    "$$"
   ]
  },
  {
   "cell_type": "markdown",
   "id": "aa587952",
   "metadata": {},
   "source": [
    "Одновременно не можем быть два значения $\\lambda$ для одного собственного вектора."
   ]
  }
 ],
 "metadata": {
  "kernelspec": {
   "display_name": "Python 3",
   "language": "python",
   "name": "python3"
  },
  "language_info": {
   "codemirror_mode": {
    "name": "ipython",
    "version": 3
   },
   "file_extension": ".py",
   "mimetype": "text/x-python",
   "name": "python",
   "nbconvert_exporter": "python",
   "pygments_lexer": "ipython3",
   "version": "3.8.10"
  }
 },
 "nbformat": 4,
 "nbformat_minor": 5
}
