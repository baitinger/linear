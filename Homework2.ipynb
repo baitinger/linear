{
 "cells": [
  {
   "cell_type": "markdown",
   "id": "93e3177e",
   "metadata": {},
   "source": [
    "## Практическое задание. Часть 1."
   ]
  },
  {
   "cell_type": "code",
   "execution_count": 1,
   "id": "4a28bb6e",
   "metadata": {},
   "outputs": [],
   "source": [
    "import numpy as np"
   ]
  },
  {
   "cell_type": "markdown",
   "id": "a6c05455",
   "metadata": {},
   "source": [
    "### Задание 1.\n",
    "Установить, какие произведения матриц $AB$ и $BA$ определены, и найти размерности полученных матриц:\n",
    "\n",
    "   а) $A$ — матрица $4\\times 2$, $B$ — матрица $4\\times 2$;\n",
    "    \n",
    "   б) $A$ — матрица $2\\times 5$, $B$ — матрица $5\\times 3$;\n",
    "    \n",
    "   в) $A$ — матрица $8\\times 3$, $B$ — матрица $3\\times 8$;\n",
    "    \n",
    "   г) $A$ — квадратная матрица $4\\times 4$, $B$ — квадратная матрица $4\\times 4$."
   ]
  },
  {
   "cell_type": "markdown",
   "id": "637af25f",
   "metadata": {},
   "source": [
    "Решение:\n",
    "- а) $AB$ и $BA$ не определены, так как в обоих случаях размерность столбцов у первой матрицы и размерность строк у второй не совпадают.\n",
    "- б) только $AB$ определено (полученная размерность 2x3), так как размерность столбцов у первой матрицы и размерность строк у второй совпадают. В случае $BA$ - не определено (3 != 2). \n",
    "- в) $AB$ и $BA$ определены, в обоих случаях размерность столбцов у первой матрицы и размерность строк у второй совпадают. Размерность $AB$ = 8x8, $BA$ = 3x3.\n",
    "- г) $AB$ и $BA$ определены, в обоих случаях размерность столбцов у первой матрицы и размерность строк у второй совпадают. Размерность $AB$ = 4x4, $BA$ = 4x4."
   ]
  },
  {
   "cell_type": "markdown",
   "id": "99ba2313",
   "metadata": {},
   "source": [
    "### Задание 2.\n",
    "Найти сумму и произведение матриц $A=\\begin{pmatrix}\n",
    "1 & -2\\\\ \n",
    "3 & 0\n",
    "\\end{pmatrix}$ и $B=\\begin{pmatrix}\n",
    "4 & -1\\\\ \n",
    "0 & 5\n",
    "\\end{pmatrix}.$"
   ]
  },
  {
   "cell_type": "markdown",
   "id": "73e26e1b",
   "metadata": {},
   "source": [
    "Сначала займемся суммой:"
   ]
  },
  {
   "cell_type": "code",
   "execution_count": 2,
   "id": "9d906d8f",
   "metadata": {},
   "outputs": [],
   "source": [
    "A = np.array([[1, -2], [3, 0]])\n",
    "B = np.array([[4, -1], [0, 5]])"
   ]
  },
  {
   "cell_type": "markdown",
   "id": "d39bba0b",
   "metadata": {},
   "source": [
    "Создадим функцию для подсчета суммы матриц:"
   ]
  },
  {
   "cell_type": "code",
   "execution_count": 3,
   "id": "88dd3ca2",
   "metadata": {
    "scrolled": false
   },
   "outputs": [
    {
     "data": {
      "text/plain": [
       "[[5, -3], [3, 5]]"
      ]
     },
     "execution_count": 3,
     "metadata": {},
     "output_type": "execute_result"
    }
   ],
   "source": [
    "def summa(A, B):\n",
    "    summa = [[None for i in range(len(A))] for el in range(len(B[0]))]\n",
    "    for i in range(len(A)):\n",
    "        for j in range(len(A[0])):\n",
    "            summa[i][j] = A[i][j] + B[i][j]\n",
    "    return(summa)\n",
    "\n",
    "summa(A,B)"
   ]
  },
  {
   "cell_type": "markdown",
   "id": "8d58a7bb",
   "metadata": {},
   "source": [
    "Проверим с помощью numpy:"
   ]
  },
  {
   "cell_type": "code",
   "execution_count": 4,
   "id": "79f19d05",
   "metadata": {
    "scrolled": true
   },
   "outputs": [
    {
     "data": {
      "text/plain": [
       "array([[ True,  True],\n",
       "       [ True,  True]])"
      ]
     },
     "execution_count": 4,
     "metadata": {},
     "output_type": "execute_result"
    }
   ],
   "source": [
    "A+B == summa(A,B)"
   ]
  },
  {
   "cell_type": "markdown",
   "id": "857413df",
   "metadata": {},
   "source": [
    "\"Произведение\" матриц (Заодно здесь реализована функция для подсчета произведения матриц для задания N5):"
   ]
  },
  {
   "cell_type": "code",
   "execution_count": 5,
   "id": "4b6ef713",
   "metadata": {},
   "outputs": [],
   "source": [
    "def matrix_multiply(A, B):\n",
    "    C = [[None for i in range(len(A))] for el in range(len(B[0]))]\n",
    "    for i in range(len(A)):\n",
    "        for j in range(len(B[0])):\n",
    "            sum = 0\n",
    "            for k in range(len(A[0])):\n",
    "                sum += A[i,k] * B[k,j]\n",
    "            C[i][j] = sum\n",
    "    return C"
   ]
  },
  {
   "cell_type": "code",
   "execution_count": 6,
   "id": "d857a110",
   "metadata": {
    "scrolled": true
   },
   "outputs": [
    {
     "name": "stdout",
     "output_type": "stream",
     "text": [
      "Произведение A*B =  [[4, -11], [12, -3]]\n",
      "Произведение B*A =  [[1, -8], [15, 0]]\n"
     ]
    }
   ],
   "source": [
    "print('Произведение A*B = ',matrix_multiply(A, B))\n",
    "print('Произведение B*A = ',matrix_multiply(B, A))"
   ]
  },
  {
   "cell_type": "markdown",
   "id": "63908327",
   "metadata": {},
   "source": [
    "Проверим с использованием numpy:"
   ]
  },
  {
   "cell_type": "code",
   "execution_count": 7,
   "id": "7fbaf923",
   "metadata": {},
   "outputs": [
    {
     "name": "stdout",
     "output_type": "stream",
     "text": [
      "Совпадает ли A*B в numpy и самостоятельно созданной функции? - True\n",
      "Совпадает ли B*A в numpy и самостоятельно созданной функции? - True\n"
     ]
    }
   ],
   "source": [
    "print('Совпадает ли A*B в numpy и самостоятельно созданной функции? -', (matrix_multiply(A, B) == A.dot(B)).all())\n",
    "print('Совпадает ли B*A в numpy и самостоятельно созданной функции? -', (matrix_multiply(B, A) == B.dot(A)).all())"
   ]
  },
  {
   "cell_type": "markdown",
   "id": "762ab8fa",
   "metadata": {},
   "source": [
    "### Задание 3.\n",
    "Из закономерностей сложения и умножения матриц на число можно сделать вывод, что матрицы одного размера образуют линейное пространство. Вычислить линейную комбинацию $3A-2B+4C$ для матриц $A=\\begin{pmatrix}\n",
    "1 & 7\\\\ \n",
    "3 & -6\n",
    "\\end{pmatrix}$, $B=\\begin{pmatrix}\n",
    "0 & 5\\\\ \n",
    "2 & -1\n",
    "\\end{pmatrix}$, $C=\\begin{pmatrix}\n",
    "2 & -4\\\\ \n",
    "1 & 1\n",
    "\\end{pmatrix}.$"
   ]
  },
  {
   "cell_type": "code",
   "execution_count": 8,
   "id": "f300d794",
   "metadata": {},
   "outputs": [],
   "source": [
    "A = np.array([[1, 7], [3, -6]])\n",
    "B = np.array([[0, 5], [2, -1]])\n",
    "C = np.array([[2, -4], [1, 1]])"
   ]
  },
  {
   "cell_type": "markdown",
   "id": "6866f2e6",
   "metadata": {},
   "source": [
    "Воспользуюсь самостоятельно созданной функцией summa() из прошлого задания."
   ]
  },
  {
   "cell_type": "code",
   "execution_count": 9,
   "id": "9e2d736b",
   "metadata": {},
   "outputs": [
    {
     "data": {
      "text/plain": [
       "[[11, -5], [9, -12]]"
      ]
     },
     "execution_count": 9,
     "metadata": {},
     "output_type": "execute_result"
    }
   ],
   "source": [
    "summa(summa(3*A,-2*B),4*C)"
   ]
  },
  {
   "cell_type": "markdown",
   "id": "db275764",
   "metadata": {},
   "source": [
    "### Задание 4.\n",
    "Дана матрица $A=\\begin{pmatrix}\n",
    "4 & 1\\\\ \n",
    "5 & -2\\\\ \n",
    "2 & 3\n",
    "\\end{pmatrix}$.\n",
    "Вычислить $AA^{T}$ и $A^{T}A$."
   ]
  },
  {
   "cell_type": "code",
   "execution_count": 10,
   "id": "69b9250e",
   "metadata": {},
   "outputs": [
    {
     "data": {
      "text/plain": [
       "array([[ 4,  1],\n",
       "       [ 5, -2],\n",
       "       [ 2,  3]])"
      ]
     },
     "execution_count": 10,
     "metadata": {},
     "output_type": "execute_result"
    }
   ],
   "source": [
    "A = np.array([[4, 1], [5, -2], [2, 3]])\n",
    "A"
   ]
  },
  {
   "cell_type": "code",
   "execution_count": 11,
   "id": "8ef005ba",
   "metadata": {
    "scrolled": true
   },
   "outputs": [
    {
     "data": {
      "text/plain": [
       "array([[ 4,  5,  2],\n",
       "       [ 1, -2,  3]])"
      ]
     },
     "execution_count": 11,
     "metadata": {},
     "output_type": "execute_result"
    }
   ],
   "source": [
    "A.T"
   ]
  },
  {
   "cell_type": "markdown",
   "id": "23eac651",
   "metadata": {},
   "source": [
    "Воспользуюсь собственной функцией, созданной в Задании 2, а затем сверим полученные матрицы со значениями из numpy.dot()"
   ]
  },
  {
   "cell_type": "code",
   "execution_count": 12,
   "id": "1cbd51e2",
   "metadata": {},
   "outputs": [
    {
     "name": "stdout",
     "output_type": "stream",
     "text": [
      "Матрица корреляций: [[17, 18, 11], [18, 29, 4], [11, 4, 13]]\n"
     ]
    }
   ],
   "source": [
    "print('Матрица корреляций:',matrix_multiply(A, A.T))"
   ]
  },
  {
   "cell_type": "code",
   "execution_count": 13,
   "id": "9d5a4b95",
   "metadata": {
    "scrolled": true
   },
   "outputs": [
    {
     "name": "stdout",
     "output_type": "stream",
     "text": [
      "Матрица ковариаций: [[45, 0], [0, 14]]\n"
     ]
    }
   ],
   "source": [
    "print('Матрица ковариаций:',matrix_multiply(A.T, A))"
   ]
  },
  {
   "cell_type": "markdown",
   "id": "94e67dd2",
   "metadata": {},
   "source": [
    "Сверяем с numpy.dot(), матрицы корреляций и ковариаций совпали."
   ]
  },
  {
   "cell_type": "code",
   "execution_count": 14,
   "id": "721da210",
   "metadata": {
    "scrolled": true
   },
   "outputs": [
    {
     "data": {
      "text/plain": [
       "array([[17, 18, 11],\n",
       "       [18, 29,  4],\n",
       "       [11,  4, 13]])"
      ]
     },
     "execution_count": 14,
     "metadata": {},
     "output_type": "execute_result"
    }
   ],
   "source": [
    "A.dot(A.T)"
   ]
  },
  {
   "cell_type": "code",
   "execution_count": 15,
   "id": "8ccde928",
   "metadata": {},
   "outputs": [
    {
     "data": {
      "text/plain": [
       "array([[45,  0],\n",
       "       [ 0, 14]])"
      ]
     },
     "execution_count": 15,
     "metadata": {},
     "output_type": "execute_result"
    }
   ],
   "source": [
    "A.T.dot(A)"
   ]
  },
  {
   "cell_type": "markdown",
   "id": "e68b1b14",
   "metadata": {},
   "source": [
    "## Задание 5.\n",
    "Написать на Python функцию для перемножения двух произвольных матриц, не используя NumPy.\n",
    "\n",
    "Сделано в Задании 2 - функция matrix_multiply()"
   ]
  },
  {
   "cell_type": "markdown",
   "id": "04d510a7",
   "metadata": {},
   "source": [
    "## Практическое задание. Часть 2."
   ]
  },
  {
   "cell_type": "markdown",
   "id": "35cdf5b7",
   "metadata": {},
   "source": [
    "### Задание 1.\n",
    "Вычислить определитель:\n",
    "\n",
    "   a)\n",
    "\n",
    "$$\\begin{vmatrix}\n",
    "sinx & -cosx\\\\ \n",
    "cosx & sinx\n",
    "\\end{vmatrix};$$\n",
    "\n",
    "   б)\n",
    "    \n",
    "$$\\begin{vmatrix}\n",
    "4 & 2 & 3\\\\ \n",
    "0 & 5 & 1\\\\ \n",
    "0 & 0 & 9\n",
    "\\end{vmatrix};$$\n",
    "    \n",
    "   в)\n",
    "\n",
    "$$\\begin{vmatrix}\n",
    "1 & 2 & 3\\\\ \n",
    "4 & 5 & 6\\\\ \n",
    "7 & 8 & 9\n",
    "\\end{vmatrix}.$$"
   ]
  },
  {
   "cell_type": "markdown",
   "id": "ef7574c2",
   "metadata": {},
   "source": [
    "Решение:"
   ]
  },
  {
   "cell_type": "markdown",
   "id": "f360e6f8",
   "metadata": {},
   "source": [
    "а) Вооружившись знанием, что для того, чтобы найти определитель в матрице размерности 2х2, нам необходимо умножить элементы главной диагонали и вычесть из этого произведение элементом другой диагонали, получаем, что определитель равен единицие, так как $sin^2x + cos^2x = 1$"
   ]
  },
  {
   "cell_type": "code",
   "execution_count": 16,
   "id": "dec631ae",
   "metadata": {},
   "outputs": [],
   "source": [
    "from numpy.linalg import det"
   ]
  },
  {
   "cell_type": "markdown",
   "id": "f414faa8",
   "metadata": {},
   "source": [
    "б) В треугольной матрице, нам достаточно перемножить элементы главной диагонали, для того, чтобы найти определитель матрицы. Определитель = 4 * 5 * 9 = 180"
   ]
  },
  {
   "cell_type": "markdown",
   "id": "dd90c26a",
   "metadata": {},
   "source": [
    "в) Посчитаем вручную, а затем сверим с numpy."
   ]
  },
  {
   "cell_type": "code",
   "execution_count": 17,
   "id": "0601f2b6",
   "metadata": {},
   "outputs": [
    {
     "data": {
      "text/plain": [
       "0"
      ]
     },
     "execution_count": 17,
     "metadata": {},
     "output_type": "execute_result"
    }
   ],
   "source": [
    "determinant = (1 * (5 * 9 - 8 * 6)) - (2 * (4 * 9 - 7 * 6)) + (3 * (4 * 8 - 5 * 7))\n",
    "determinant"
   ]
  },
  {
   "cell_type": "code",
   "execution_count": 18,
   "id": "5c443624",
   "metadata": {
    "scrolled": true
   },
   "outputs": [
    {
     "data": {
      "text/plain": [
       "-0.0"
      ]
     },
     "execution_count": 18,
     "metadata": {},
     "output_type": "execute_result"
    }
   ],
   "source": [
    "a = np.array([[1, 2, 3], [4, 5, 6], [7, 8, 9]])\n",
    "round(det(a), 10)"
   ]
  },
  {
   "cell_type": "markdown",
   "id": "483429fc",
   "metadata": {},
   "source": [
    "С учетом округления аж до 10-ти знаков после запятой, мы видим, что определитель тоже равен нулю."
   ]
  },
  {
   "cell_type": "markdown",
   "id": "d006f7e1",
   "metadata": {},
   "source": [
    "### Задание 2.\n",
    "Определитель матрицы $A$ равен $4$. Найти:\n",
    "\n",
    "   а) $det(A^{2})$;\n",
    "    \n",
    "   б) $det(A^{T})$;\n",
    "    \n",
    "   в) $det(2A)$."
   ]
  },
  {
   "cell_type": "markdown",
   "id": "1c61ca1b",
   "metadata": {},
   "source": [
    "Решение:"
   ]
  },
  {
   "cell_type": "markdown",
   "id": "7c375a0a",
   "metadata": {},
   "source": [
    "а) из 9-го свойства определителя: Для двух квадратных матриц одинакового размера\n",
    "\n",
    "$$det(AB)=detA\\cdot detB.$$\n",
    "\n",
    "В нашем примере:\n",
    "\n",
    "$$det(AA)=detA\\cdot detA.$$\n",
    "\n",
    "То есть:\n",
    "\n",
    "$$ 4\\cdot4=16 $$"
   ]
  },
  {
   "cell_type": "markdown",
   "id": "19f5114e",
   "metadata": {},
   "source": [
    "б) Из первого свойство определителя: Определитель транспонированной матрицы равен определителю исходной:\n",
    "\n",
    "$$detA^{T}=detA.$$\n",
    "\n",
    "а значит, что:\n",
    "\n",
    "$$detA^{T}=detA=4$$"
   ]
  },
  {
   "cell_type": "markdown",
   "id": "73341347",
   "metadata": {},
   "source": [
    "в) Из второго свойства: Умножение строки или столбца матрицы на число $\\lambda$ приведет к умножению определителя матрицы на то же число. \n",
    "\n",
    "Умножая матрицу на число, мы умножаем каждый элемент матрицы на это число, а значит, умножаем все строки на число $\\lambda$. Соответственно, определитель станет в $\\lambda^n$ (n - размерность матрицы) раз больше.\n",
    "\n",
    "Наш пример:\n",
    "\n",
    "$$det(2A) = 2^n\\cdot4$$"
   ]
  },
  {
   "cell_type": "markdown",
   "id": "4a22244d",
   "metadata": {},
   "source": [
    "### Задание 3.\n",
    "Доказать, что матрица\n",
    "\n",
    "$$\\begin{pmatrix}\n",
    "-2 & 7 & -3\\\\ \n",
    "4 & -14 & 6\\\\ \n",
    "-3 & 7 & 13\n",
    "\\end{pmatrix}$$\n",
    "   \n",
    "вырожденная."
   ]
  },
  {
   "cell_type": "markdown",
   "id": "02d014fd",
   "metadata": {},
   "source": [
    "Решение:\n",
    "\n",
    "Умножим первый вектор (-2, 7, -3) на 2 и получим вектор (-4, 14, -6). Сложив получившийся вектор со вторым вектором этой марицы, мы получим нулевую строку. А по четверому свойству определителя - Если матрица имеет нулевую строку или столбец, то определитель равен нулю. Проверим это с помощью numpy:"
   ]
  },
  {
   "cell_type": "code",
   "execution_count": 19,
   "id": "85e95cad",
   "metadata": {},
   "outputs": [
    {
     "data": {
      "text/plain": [
       "0.0"
      ]
     },
     "execution_count": 19,
     "metadata": {},
     "output_type": "execute_result"
    }
   ],
   "source": [
    "a = np.array([[-2, 7, -3], [4, -14, 6], [-3, 7, 13]])\n",
    "\n",
    "det(a)"
   ]
  },
  {
   "cell_type": "markdown",
   "id": "25d9c9b2",
   "metadata": {},
   "source": [
    "### Задание 4.\n",
    "Найти ранг матрицы:\n",
    "\n",
    "   а) $\\begin{pmatrix}\n",
    "1 & 2 & 3\\\\ \n",
    "1 & 1 & 1\\\\ \n",
    "2 & 3 & 4\n",
    "\\end{pmatrix};$\n",
    "\n",
    "   б) $\\begin{pmatrix}\n",
    "0 & 0 & 2 & 1\\\\ \n",
    "0 & 0 & 2 & 2\\\\ \n",
    "0 & 0 & 4 & 3\\\\ \n",
    "2 & 3 & 5 & 6\n",
    "\\end{pmatrix}.$"
   ]
  },
  {
   "cell_type": "markdown",
   "id": "9d3f4867",
   "metadata": {},
   "source": [
    "Решение:"
   ]
  },
  {
   "cell_type": "markdown",
   "id": "2edc036d",
   "metadata": {},
   "source": [
    "а) Мы можем выразить третий вектор через два других:\n",
    "\n",
    "$$(1, 2, 3) + (1, 1, 1) = (2, 3, 4)$$\n",
    "\n",
    "Значит третий вектор можно убрать, остается матрица\n",
    "\n",
    "$\\begin{pmatrix}\n",
    "1 & 2 & 3\\\\ \n",
    "1 & 1 & 1\n",
    "\\end{pmatrix};$\n",
    "\n",
    "И ее ранг равен двум."
   ]
  },
  {
   "cell_type": "code",
   "execution_count": 20,
   "id": "9d0f2694",
   "metadata": {},
   "outputs": [],
   "source": [
    "a = np.array([[1, 2, 3], [1, 1, 1], [2, 3, 4]])"
   ]
  },
  {
   "cell_type": "code",
   "execution_count": 21,
   "id": "36225c9d",
   "metadata": {},
   "outputs": [],
   "source": [
    "from numpy.linalg import matrix_rank"
   ]
  },
  {
   "cell_type": "code",
   "execution_count": 22,
   "id": "95f862d8",
   "metadata": {},
   "outputs": [
    {
     "data": {
      "text/plain": [
       "2"
      ]
     },
     "execution_count": 22,
     "metadata": {},
     "output_type": "execute_result"
    }
   ],
   "source": [
    "matrix_rank(a)"
   ]
  },
  {
   "cell_type": "markdown",
   "id": "ebc418ea",
   "metadata": {},
   "source": [
    "б) Решение:"
   ]
  },
  {
   "cell_type": "markdown",
   "id": "8454b12d",
   "metadata": {},
   "source": [
    "Необходимо привести матрицу к треугольному виду, и посмотреть количество ненулевых строк.\n",
    "\n",
    "Умножим первый столбец на 3/2, а второй столбец на -1:\n",
    "\n",
    "$\\begin{pmatrix}\n",
    "0 & 0 & 2 & 1\\\\ \n",
    "0 & 0 & 2 & 2\\\\ \n",
    "0 & 0 & 4 & 3\\\\ \n",
    "3 & -3 & 5 & 6\n",
    "\\end{pmatrix}.$\n",
    "\n",
    "сложим первый столбец со вторым, получим нулевой столбец, и уберем его:\n",
    "\n",
    "$\\begin{pmatrix}\n",
    "0 & 2 & 1\\\\ \n",
    "0 & 2 & 2\\\\ \n",
    "0 & 4 & 3\\\\ \n",
    "-3 & 5 & 6\n",
    "\\end{pmatrix}.$\n",
    "\n",
    "Поменяем 4-ую строку и 1-ую:\n",
    "\n",
    "$\\begin{pmatrix}\n",
    "-3 & 5 & 6\\\\ \n",
    "0 & 2 & 2\\\\ \n",
    "0 & 4 & 3\\\\ \n",
    "0 & 2 & 1\n",
    "\\end{pmatrix}.$\n",
    "\n",
    "Умножим 2-ую строку на 2 и вычтем из нее 3-ю строку:\n",
    "\n",
    "$\\begin{pmatrix}\n",
    "-3 & 5 & 6\\\\ \n",
    "0 & 4 & 4\\\\ \n",
    "0 & 0 & 1\\\\ \n",
    "0 & 2 & 1\n",
    "\\end{pmatrix}.$\n",
    "\n",
    "Умножим 4-ую строку на 2 и вычтем из 2-ой строки 4-ю строку:\n",
    "\n",
    "$\\begin{pmatrix}\n",
    "-3 & 5 & 6\\\\ \n",
    "0 & 4 & 4\\\\ \n",
    "0 & 0 & 1\\\\ \n",
    "0 & 0 & 2\n",
    "\\end{pmatrix}.$\n",
    "\n",
    "Умножим 3-ю строку на 2 и вычтем из 3-ей строки 4-ую, получим нулевую строку, которую можно отбросить:\n",
    "\n",
    "$\\begin{pmatrix}\n",
    "-3 & 5 & 6\\\\ \n",
    "0 & 4 & 4\\\\ \n",
    "0 & 0 & 2\n",
    "\\end{pmatrix}.$\n",
    "\n",
    "Получили треугольную матрицу размером 3х3, и ее ранк равен 3-ём."
   ]
  },
  {
   "cell_type": "code",
   "execution_count": 23,
   "id": "2ef99c31",
   "metadata": {
    "scrolled": true
   },
   "outputs": [
    {
     "data": {
      "text/plain": [
       "3"
      ]
     },
     "execution_count": 23,
     "metadata": {},
     "output_type": "execute_result"
    }
   ],
   "source": [
    "a = np.array([[0, 0, 2, 1], [0, 0, 2, 2], [0, 0, 4, 3], [2, 3, 5, 6]])\n",
    "matrix_rank(a)"
   ]
  }
 ],
 "metadata": {
  "kernelspec": {
   "display_name": "Python 3",
   "language": "python",
   "name": "python3"
  },
  "language_info": {
   "codemirror_mode": {
    "name": "ipython",
    "version": 3
   },
   "file_extension": ".py",
   "mimetype": "text/x-python",
   "name": "python",
   "nbconvert_exporter": "python",
   "pygments_lexer": "ipython3",
   "version": "3.8.10"
  }
 },
 "nbformat": 4,
 "nbformat_minor": 5
}
