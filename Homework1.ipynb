{
 "cells": [
  {
   "cell_type": "code",
   "execution_count": 1,
   "id": "f262945f",
   "metadata": {},
   "outputs": [],
   "source": [
    "import numpy as np"
   ]
  },
  {
   "cell_type": "markdown",
   "id": "92dc4ca7",
   "metadata": {},
   "source": [
    "## Практическое задание. Часть 1."
   ]
  },
  {
   "cell_type": "markdown",
   "id": "ef85d280",
   "metadata": {},
   "source": [
    "### Задание 1. \n",
    "Исследовать на линейную зависимость:\n",
    "\n",
    "$$f_{1}(x)=e^{x}, f_{2}(x)=1, f_{3}(x)=x+1, f_{4}(x)=x-e^{x}.$$\n"
   ]
  },
  {
   "cell_type": "markdown",
   "id": "d9db4151",
   "metadata": {},
   "source": [
    "\n",
    "Заметим, что $f_{1}(x)= -(f_{4}(x)+(-f_{3}(x))+f_{2}(x))$, то есть вектор $f_{1}(x)$ — линейная комбинация векторов $f_{2}(x)$, $f_{3}(x)$ и $f_{4}(x)$ из чего можно сделать вывод, что $f_{1}(x)=e^{x}$ и $f_{2}(x)=1$, $f_{3}(x)=x+1$ и $f_{4}(x)=x-e^{x}$ линейно зависимы."
   ]
  },
  {
   "cell_type": "markdown",
   "id": "5ba133bb",
   "metadata": {},
   "source": [
    "### Задание 2.\n",
    "Исследовать на линейную зависимость:\n",
    "$$f_{1}(x)=2, f_{2}(x)=x, f_{3}(x)=x^{2}, f_{4}(x)=(x+1)^{2}$$"
   ]
  },
  {
   "cell_type": "markdown",
   "id": "0b57ba87",
   "metadata": {},
   "source": [
    "Заметим, что $f_{4}(x)= f_{3}(x) + 2f_{2}(x) + 2f_{1}(x)$, то есть вектор $f_{4}(x)$ — линейная комбинация векторов $f_{1}(x)$, $f_{2}(x)$ и $f_{3}(x)$ из чего можно сделать вывод, что $f_{1}(x)=2$ и $f_{2}(x)=x$, $f_{3}(x)=x^{2}$ и $f_{4}(x)=(x+1)^{2}$ линейно зависимы."
   ]
  },
  {
   "cell_type": "markdown",
   "id": "7693dddc",
   "metadata": {},
   "source": [
    "### Задание 3.\n",
    "Найти координаты вектора $x = (2, 3, 5)\\in \\mathbb{R}^{3}$ в базисе $b_{1}=(0, 0, 10)$, $b_{2}=(2, 0, 0)$, $b_{3}=(0, 1, 0)$.\n"
   ]
  },
  {
   "cell_type": "code",
   "execution_count": 2,
   "id": "9614d6d6",
   "metadata": {},
   "outputs": [],
   "source": [
    "x = np.array([2, 3, 5])"
   ]
  },
  {
   "cell_type": "code",
   "execution_count": 3,
   "id": "6579960f",
   "metadata": {},
   "outputs": [],
   "source": [
    "b1 = np.array([0, 0, 10])\n",
    "b2 = np.array([2, 0, 0])\n",
    "b3 = np.array([0, 1, 0])"
   ]
  },
  {
   "cell_type": "markdown",
   "id": "3d7bdeac",
   "metadata": {},
   "source": [
    " Координатами нового вектора будут являться такие $\\alpha$, что имеет место равенство $ X = α1ε1 + α2ε2 + α3ε3 $"
   ]
  },
  {
   "cell_type": "code",
   "execution_count": 4,
   "id": "f4262112",
   "metadata": {},
   "outputs": [
    {
     "data": {
      "text/plain": [
       "array([ True,  True,  True])"
      ]
     },
     "execution_count": 4,
     "metadata": {},
     "output_type": "execute_result"
    }
   ],
   "source": [
    "x_new = 0.5*b1 + 1*b2 + 3*b3\n",
    "x_new == x # Проверка, что α подобраны правильно"
   ]
  },
  {
   "cell_type": "markdown",
   "id": "7b683fb6",
   "metadata": {},
   "source": [
    "Ответ: X = 1/2ε1 + ε2 + 3ε3, то есть координаты (0.5, 1, 3)"
   ]
  },
  {
   "cell_type": "markdown",
   "id": "c07d0899",
   "metadata": {},
   "source": [
    "### Задание 4.\n",
    "Найти координаты вектора $3x^{2}-2x+2\\in\\mathbb{R}^{3}[x]$:\n",
    "\n",
    "а) в базисе $1$, $x$, $x^{2}$;\n",
    "\n",
    "б) в базисе $x^{2}$, $x-1$, $1$."
   ]
  },
  {
   "cell_type": "markdown",
   "id": "233652ad",
   "metadata": {},
   "source": [
    "a) \n",
    "Предполагаю, что необходимо вместо координат подставить коэффициенты при a, b, c из данного в условии вектора:\n",
    "$$(2, -2, 3)$$"
   ]
  },
  {
   "cell_type": "markdown",
   "id": "11d757cd",
   "metadata": {},
   "source": [
    "б) Здесь нужно, скорее всего, учесть, что в базисе ε2 = x - 1, а значит, при координатах $$ (3, -2, 0) $$ мы получим искомый вектор."
   ]
  },
  {
   "cell_type": "markdown",
   "id": "d289141d",
   "metadata": {},
   "source": [
    "### Задание 5.\n",
    "Установить, является ли линейным подпространством:\n",
    "\n",
    "а) совокупность всех векторов трехмерного пространства, у которых по крайней мере одна из первых двух координат равна нулю;\n",
    "    \n",
    "б) все векторы, являющиеся линейными комбинациями данных векторов $\\{u_{1}, u_{2}, \\ldots, u_{n}\\}$."
   ]
  },
  {
   "cell_type": "markdown",
   "id": "a404db2e",
   "metadata": {},
   "source": [
    "??? Не справился, надеюсь, посмотрев разбор дз будет все понятно :("
   ]
  },
  {
   "cell_type": "markdown",
   "id": "a08aebcf",
   "metadata": {},
   "source": [
    "## Практическое задание. Часть 2."
   ]
  },
  {
   "cell_type": "markdown",
   "id": "4ee2b249",
   "metadata": {},
   "source": [
    "### Задание 1.\n",
    "Найти скалярное произведение векторов $x, y \\in \\mathbb{R}$:<br>\n",
    "а) $x=(0,-3, 6),~y=(-4, 7, 9);$<br>\n",
    "б) $x=(7, -4, 0, 1),~y=(-3, 1, 11, 2).$"
   ]
  },
  {
   "cell_type": "code",
   "execution_count": 5,
   "id": "3a3054af",
   "metadata": {},
   "outputs": [],
   "source": [
    "x = np.array([0, -3, 6])\n",
    "y = np.array([-4, 7, 9])"
   ]
  },
  {
   "cell_type": "code",
   "execution_count": 6,
   "id": "0eb5fa4c",
   "metadata": {},
   "outputs": [],
   "source": [
    "def scalar_multiply(x, y):\n",
    "    if len(x) != len(y):\n",
    "        return \"Вектора имеют разную размерность\"\n",
    "    result = 0\n",
    "    for i in range(len(x)):\n",
    "        result += (x[i]* y[i])\n",
    "    return result"
   ]
  },
  {
   "cell_type": "code",
   "execution_count": 7,
   "id": "58005050",
   "metadata": {
    "scrolled": true
   },
   "outputs": [
    {
     "name": "stdout",
     "output_type": "stream",
     "text": [
      "Решение a): 33\n"
     ]
    }
   ],
   "source": [
    "print ('Решение a):',scalar_multiply(x,y))"
   ]
  },
  {
   "cell_type": "code",
   "execution_count": 8,
   "id": "87203558",
   "metadata": {},
   "outputs": [],
   "source": [
    "x = np.array([7, -4, 0, 1])\n",
    "y = np.array([-3, 1, 11, 2])"
   ]
  },
  {
   "cell_type": "code",
   "execution_count": 9,
   "id": "cc19a5cd",
   "metadata": {},
   "outputs": [
    {
     "name": "stdout",
     "output_type": "stream",
     "text": [
      "Решение б): -23\n"
     ]
    }
   ],
   "source": [
    "print ('Решение б):',scalar_multiply(x,y))"
   ]
  },
  {
   "cell_type": "markdown",
   "id": "8aa8aacc",
   "metadata": {},
   "source": [
    "### Задание 2.\n",
    "Найти нормы векторов $(4, 2, 4)$ и $(12, 3, 4)$ и угол между ними."
   ]
  },
  {
   "cell_type": "code",
   "execution_count": 10,
   "id": "816f8923",
   "metadata": {},
   "outputs": [],
   "source": [
    "x = np.array([4, 2, 4])\n",
    "y = np.array([12, 3, 4])"
   ]
  },
  {
   "cell_type": "code",
   "execution_count": 11,
   "id": "7bcf3379",
   "metadata": {},
   "outputs": [],
   "source": [
    "from math import sqrt, acos, cos, degrees"
   ]
  },
  {
   "cell_type": "code",
   "execution_count": 12,
   "id": "30e4eb18",
   "metadata": {},
   "outputs": [],
   "source": [
    "def norm_of_vector(vector, ord=2):\n",
    "    norma = 0\n",
    "    if ord == 1:\n",
    "        for i in vector:\n",
    "            norma += abs(i)\n",
    "    elif ord == 2:\n",
    "        norma = sqrt(sum(i**2 for i in vector))\n",
    "    else:\n",
    "        return('Error')\n",
    "    return(norma)"
   ]
  },
  {
   "cell_type": "code",
   "execution_count": 13,
   "id": "ed5f41fc",
   "metadata": {
    "scrolled": false
   },
   "outputs": [
    {
     "name": "stdout",
     "output_type": "stream",
     "text": [
      "Евклидова норма вектора x = 6.0, Манхэттенская норма этого же вектора = 10\n",
      "Евклидова норма вектора y = 13.0, Манхэттенская норма этого же вектора = 19\n"
     ]
    }
   ],
   "source": [
    "print(f'Евклидова норма вектора x = {norm_of_vector(x, ord=2)}, Манхэттенская норма этого же вектора = {norm_of_vector(x, ord=1)}')\n",
    "print(f'Евклидова норма вектора y = {norm_of_vector(y, ord=2)}, Манхэттенская норма этого же вектора = {norm_of_vector(y, ord=1)}')"
   ]
  },
  {
   "cell_type": "code",
   "execution_count": 14,
   "id": "897619d2",
   "metadata": {},
   "outputs": [
    {
     "name": "stdout",
     "output_type": "stream",
     "text": [
      "Угол между векторами в радианах = 0.4568740035326613, в градусах = 26.176952171666557\n"
     ]
    }
   ],
   "source": [
    "angle = acos(scalar_multiply(x, y)/norm_of_vector(x, ord=2)/norm_of_vector(y, ord=2))\n",
    "print(f'Угол между векторами в радианах = {angle}, в градусах = {degrees(angle)}') "
   ]
  },
  {
   "cell_type": "markdown",
   "id": "45c92707",
   "metadata": {},
   "source": [
    "### Задание 3.\n",
    "Будет ли линейное пространство евклидовым, если за скалярное произведение принять:<br>\n",
    "а) произведение длин векторов;<br>\n",
    "б) утроенное обычное скалярное произведение векторов?<br>"
   ]
  },
  {
   "cell_type": "code",
   "execution_count": 15,
   "id": "a9c5596e",
   "metadata": {},
   "outputs": [],
   "source": [
    "# Создадим функцию подсчета произведения длин векторов, которую используем далее вместо скалярного произведения\n",
    "def multiply_length_of_vectors(x, y):\n",
    "    return norm_of_vector(x) * norm_of_vector(y)"
   ]
  },
  {
   "cell_type": "markdown",
   "id": "ad7a5b75",
   "metadata": {},
   "source": [
    "Линейное пространство над полем вещественных чисел называется _евклидовым пространством_, если на нем введено правило, согласно которому каждой упорядоченной паре векторов $x$ и $y$ поставлено в соответствие вещественное число, называемое _скалярным произведением_ и обозначаемое символом $(x, y)$.\n",
    "\n",
    "При этом указанное правило должно подчиняться четырем аксиомам:<br>\n",
    "1) $(x,y)=(y,x);$<br>\n",
    "2) $(\\lambda x, y)=\\lambda(x, y);$<br>\n",
    "3) $(x_{1}+x_{2},y)=(x_{1},y)+(x_{2},y);$<br>\n",
    "4) $(x, x)\\geq0$, причем $(x,x)=0\\Leftrightarrow x=0.$"
   ]
  },
  {
   "cell_type": "code",
   "execution_count": 16,
   "id": "7c423723",
   "metadata": {},
   "outputs": [
    {
     "data": {
      "text/plain": [
       "(True, True, True, True)"
      ]
     },
     "execution_count": 16,
     "metadata": {},
     "output_type": "execute_result"
    }
   ],
   "source": [
    "x = np.array([1,2,3])\n",
    "y = np.array([2,3,4])\n",
    "# Проверка оригинальных аксиом:\n",
    "(np.dot(y,x) == np.dot(x, y),\n",
    "np.dot(2*x,y) == 2*np.dot(x,y), \n",
    "np.dot(x+y,y) == np.dot(x,y) + np.dot(y,y), \n",
    "np.dot(x,x) >= 0)"
   ]
  },
  {
   "cell_type": "markdown",
   "id": "5807a4cc",
   "metadata": {},
   "source": [
    "Теперь попробуем вместо dot использовать функцию multiply_length_of_vectors, которая означает обычное произведение длин векторов."
   ]
  },
  {
   "cell_type": "code",
   "execution_count": 17,
   "id": "49855769",
   "metadata": {},
   "outputs": [
    {
     "data": {
      "text/plain": [
       "(True, True, False, True)"
      ]
     },
     "execution_count": 17,
     "metadata": {},
     "output_type": "execute_result"
    }
   ],
   "source": [
    "# Проверка:\n",
    "(multiply_length_of_vectors(y,x) == multiply_length_of_vectors(x, y),\n",
    "multiply_length_of_vectors(2*x,y) == 2*multiply_length_of_vectors(x,y), \n",
    "multiply_length_of_vectors(x+y,y) == multiply_length_of_vectors(x,y) + multiply_length_of_vectors(y,y), \n",
    "multiply_length_of_vectors(x,x) >= 0)"
   ]
  },
  {
   "cell_type": "markdown",
   "id": "eb6f9c78",
   "metadata": {},
   "source": [
    "**Вывод а): Если за скалярное произведение принять произведение длин векторов, то линейное пространство не будет Евклидовым.**"
   ]
  },
  {
   "cell_type": "code",
   "execution_count": 18,
   "id": "dee7263b",
   "metadata": {},
   "outputs": [],
   "source": [
    "# Создадим функцию для подсчета утроенного скалярного произведения:\n",
    "def triple_scalar_multiply(x, y):\n",
    "    return 3*scalar_multiply(x, y)"
   ]
  },
  {
   "cell_type": "code",
   "execution_count": 19,
   "id": "11336a27",
   "metadata": {},
   "outputs": [
    {
     "data": {
      "text/plain": [
       "(True, True, True, True)"
      ]
     },
     "execution_count": 19,
     "metadata": {},
     "output_type": "execute_result"
    }
   ],
   "source": [
    "# Проверка:\n",
    "(triple_scalar_multiply(y,x) == triple_scalar_multiply(x, y),\n",
    "triple_scalar_multiply(2*x,y) == 2*triple_scalar_multiply(x,y), \n",
    "triple_scalar_multiply(x+y,y) == triple_scalar_multiply(x,y) + triple_scalar_multiply(y,y), \n",
    "triple_scalar_multiply(x,x) >= 0)"
   ]
  },
  {
   "cell_type": "markdown",
   "id": "af57e020",
   "metadata": {},
   "source": [
    "**Вывод б): Если за скалярное произведение принять утроенное скалярное произведение векторов, то линейное пространство будет Евклидовым.**"
   ]
  },
  {
   "cell_type": "markdown",
   "id": "50bb522e",
   "metadata": {},
   "source": [
    "### Задание 4.\n",
    "Какие из нижеперечисленных векторов образуют ортонормированный базис в линейном пространстве $\\mathbb{R}^{3}$:<br>\n",
    "а) $(1,0,0),(0,0,1);$ <br>\n",
    "б) $(1/\\sqrt{2},-1/\\sqrt{2},0),(1/\\sqrt{2},1/\\sqrt{2},0), (0,0,1);$<br>\n",
    "в) $(1/2, -1/2, 0), (0, 1/2, 1/2), (0,0,1);$<br>\n",
    "г) $(1,0,0),(0,1,0),(0,0,1)?$ "
   ]
  },
  {
   "cell_type": "code",
   "execution_count": 20,
   "id": "e4a06805",
   "metadata": {},
   "outputs": [
    {
     "name": "stdout",
     "output_type": "stream",
     "text": [
      "Проходит по правилу ортогональности\n",
      "Проходит по правилу нормированости\n"
     ]
    }
   ],
   "source": [
    "# a)\n",
    "x = np.array([1, 0, 0])\n",
    "y = np.array([0, 0, 1])\n",
    "print ('Проходит по правилу ортогональности') if \\\n",
    "np.dot(x, y) == 0 \\\n",
    "else print('Не проходит по правилу ортогональности')\n",
    "\n",
    "print ('Проходит по правилу нормированости') if \\\n",
    "(np.dot(x, x) == 1 and np.dot(y,y) == 1) \\\n",
    "else print('Не проходит по правилу нормированости')"
   ]
  },
  {
   "cell_type": "code",
   "execution_count": 21,
   "id": "26e87fd2",
   "metadata": {},
   "outputs": [
    {
     "name": "stdout",
     "output_type": "stream",
     "text": [
      "Проходит по правилу ортогональности\n",
      "Не проходит по правилу нормированости\n"
     ]
    }
   ],
   "source": [
    "# б)\n",
    "x = np.array([1/sqrt(2), -1/sqrt(2) ,0])\n",
    "y = np.array([1/sqrt(2), 1/sqrt(2), 0])\n",
    "z = np.array([0, 0, 1])\n",
    "print ('Проходит по правилу ортогональности') if \\\n",
    "(np.dot(x, y) == 0 and\\\n",
    "np.dot(x, z) == 0 and\\\n",
    "np.dot(y, z) == 0) \\\n",
    "else print('Не проходит по правилу ортогональности')\n",
    "\n",
    "print ('Проходит по правилу нормированости') if \\\n",
    "(np.dot(x, x) == 1 and np.dot(y,y) == 1 and np.dot(z,z) == 1) \\\n",
    "else print('Не проходит по правилу нормированости')"
   ]
  },
  {
   "cell_type": "code",
   "execution_count": 22,
   "id": "cb973632",
   "metadata": {},
   "outputs": [
    {
     "name": "stdout",
     "output_type": "stream",
     "text": [
      "Не проходит по правилу ортогональности\n",
      "Не проходит по правилу нормированости\n"
     ]
    }
   ],
   "source": [
    "# в)\n",
    "x = np.array([1/2, -1/2, 0])\n",
    "y = np.array([0, 1/2, 1/2])\n",
    "z = np.array([0, 0, 1])\n",
    "print ('Проходит по правилу ортогональности') if \\\n",
    "(np.dot(x, y) == 0 and\\\n",
    "np.dot(x, z) == 0 and\\\n",
    "np.dot(y, z) == 0) \\\n",
    "else print('Не проходит по правилу ортогональности')\n",
    "\n",
    "print ('Проходит по правилу нормированости') if \\\n",
    "(np.dot(x, x) == 1 and np.dot(y,y) == 1 and np.dot(z,z) == 1) \\\n",
    "else print('Не проходит по правилу нормированости')"
   ]
  },
  {
   "cell_type": "code",
   "execution_count": 23,
   "id": "ad967778",
   "metadata": {},
   "outputs": [
    {
     "name": "stdout",
     "output_type": "stream",
     "text": [
      "Проходит по правилу ортогональности\n",
      "Проходит по правилу нормированости\n"
     ]
    }
   ],
   "source": [
    "# г)\n",
    "x = np.array([1, 0, 0])\n",
    "y = np.array([0, 1, 0])\n",
    "z = np.array([0, 0, 1])\n",
    "print ('Проходит по правилу ортогональности') if \\\n",
    "(np.dot(x, y) == 0 and\\\n",
    "np.dot(x, z) == 0 and\\\n",
    "np.dot(y, z) == 0) \\\n",
    "else print('Не проходит по правилу ортогональности')\n",
    "\n",
    "print ('Проходит по правилу нормированости') if \\\n",
    "(np.dot(x, x) == 1 and np.dot(y,y) == 1 and np.dot(z,z) == 1) \\\n",
    "else print('Не проходит по правилу нормированости')"
   ]
  }
 ],
 "metadata": {
  "kernelspec": {
   "display_name": "Python 3",
   "language": "python",
   "name": "python3"
  },
  "language_info": {
   "codemirror_mode": {
    "name": "ipython",
    "version": 3
   },
   "file_extension": ".py",
   "mimetype": "text/x-python",
   "name": "python",
   "nbconvert_exporter": "python",
   "pygments_lexer": "ipython3",
   "version": "3.8.10"
  }
 },
 "nbformat": 4,
 "nbformat_minor": 5
}
