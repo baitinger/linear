{
 "cells": [
  {
   "cell_type": "code",
   "execution_count": 1,
   "id": "f27972e9",
   "metadata": {},
   "outputs": [],
   "source": [
    "import numpy as np\n",
    "from numpy.linalg import det, matrix_rank, eig"
   ]
  },
  {
   "cell_type": "markdown",
   "id": "86110a05",
   "metadata": {},
   "source": [
    "## Практическое задание. Часть 1."
   ]
  },
  {
   "cell_type": "markdown",
   "id": "8c7a3db1",
   "metadata": {},
   "source": [
    "### Задание 1.\n",
    "\n",
    "Решить систему уравнений методом Гаусса:\n",
    "\n",
    "$$\\begin{cases}\n",
    "x_{1}+x_{2}-x_{3}-2x_{4}=0, \\\\\n",
    "2x_{1}+x_{2}-x_{3}+x_{4}=-2, \\\\\n",
    "x_{1}+x_{2}-3x_{3}+x_{4}=4.\n",
    "\\end{cases}$$"
   ]
  },
  {
   "cell_type": "markdown",
   "id": "bcb3f3c3",
   "metadata": {},
   "source": [
    "$$\\begin{pmatrix}\n",
    "\\left.\\begin{matrix}\n",
    "1 & 1 & -1 & -2 \\\\ \n",
    "2 & 1 & -1 & 1 \\\\ \n",
    "1 & 1 & -3 & 1\n",
    "\\end{matrix}\\right|\n",
    "\\begin{matrix}\n",
    "0\\\\ \n",
    "-2\\\\\n",
    "4\n",
    "\\end{matrix}\n",
    "\\end{pmatrix}.$$"
   ]
  },
  {
   "cell_type": "markdown",
   "id": "baa58a56",
   "metadata": {},
   "source": [
    "Решение:"
   ]
  },
  {
   "cell_type": "markdown",
   "id": "5f05662b",
   "metadata": {},
   "source": [
    "Вычтем первую строку умноженную на 2 из 2-ой строки:\n",
    "$$\\begin{pmatrix}\n",
    "\\left.\\begin{matrix}\n",
    "1 & 1 & -1 & -2 \\\\ \n",
    "0 & -1 & 1 & 5 \\\\ \n",
    "1 & 1 & -3 & 1\n",
    "\\end{matrix}\\right|\n",
    "\\begin{matrix}\n",
    "0\\\\ \n",
    "-2\\\\\n",
    "4\n",
    "\\end{matrix}\n",
    "\\end{pmatrix}.$$\n",
    "\n",
    "Вычтем первую строку из 3-ей строки:\n",
    "$$\\begin{pmatrix}\n",
    "\\left.\\begin{matrix}\n",
    "1 & 1 & -1 & -2 \\\\ \n",
    "0 & -1 & 1 & 5 \\\\ \n",
    "0 & 0 & -2 & 3\n",
    "\\end{matrix}\\right|\n",
    "\\begin{matrix}\n",
    "0\\\\ \n",
    "-2\\\\\n",
    "4\n",
    "\\end{matrix}\n",
    "\\end{pmatrix}.$$\n",
    "\n",
    "Запишем получившуюся систему:\n",
    "$$\\begin{cases}\n",
    "x_{1}+x_{2}-x_{3}-2x_{4}=0, \\\\\n",
    "-x_{2}+x_{3}+5x_{4}=-2, \\\\\n",
    "-2x_{3}+3x_{4}=4, \\\\\n",
    "\\end{cases}$$\n",
    "\n",
    "Так как число уравнений меньше числа неизвестных, то такая система считается неопределенной и будет иметь бесконечное множество решений. Ниже, в коде, я выразил х3 через c, а затем выразил остальные неизвестные."
   ]
  },
  {
   "cell_type": "code",
   "execution_count": 2,
   "id": "9ffd0d26",
   "metadata": {},
   "outputs": [],
   "source": [
    "#Пусть x3 = C = 1\n",
    "c = 1"
   ]
  },
  {
   "cell_type": "code",
   "execution_count": 3,
   "id": "6dd0ab13",
   "metadata": {},
   "outputs": [
    {
     "name": "stdout",
     "output_type": "stream",
     "text": [
      "При x3 = C = 1:\n",
      "x1=-8.0\n",
      "x2=13.0\n",
      "x3=1\n",
      "x4=2.0\n"
     ]
    }
   ],
   "source": [
    "x3 = c\n",
    "x4 = (4+2*c)/3\n",
    "x2 = x3 + 5*x4 + 2\n",
    "x1 = x3 + (2/3)*(4+2*x3) - x2\n",
    "\n",
    "print(f'При x3 = C = 1:\\nx1={x1}\\nx2={x2}\\nx3={x3}\\nx4={x4}')"
   ]
  },
  {
   "cell_type": "code",
   "execution_count": 4,
   "id": "05af2b38",
   "metadata": {},
   "outputs": [
    {
     "name": "stdout",
     "output_type": "stream",
     "text": [
      "Подставим получившиеся значения в систему уравнений и сверимся.\n",
      "𝑥1+𝑥2−𝑥3−2𝑥4 = 0.0\n",
      "2𝑥1+𝑥2−𝑥3+𝑥4 = -2.0\n",
      "𝑥1+𝑥2−3𝑥3+𝑥4 = 4.0\n",
      "Результат сходится.\n"
     ]
    }
   ],
   "source": [
    "print(f'Подставим получившиеся значения в систему уравнений и сверимся.\\n\\\n",
    "𝑥1+𝑥2−𝑥3−2𝑥4 = {x1 + x2 - x3 - 2*x4}\\n\\\n",
    "2𝑥1+𝑥2−𝑥3+𝑥4 = {2*x1 + x2 - x3 + x4}\\n\\\n",
    "𝑥1+𝑥2−3𝑥3+𝑥4 = {x1 + x2 - 3*x3 + x4}\\n\\\n",
    "Результат сходится.') "
   ]
  },
  {
   "cell_type": "markdown",
   "id": "ddb6c7d9",
   "metadata": {},
   "source": [
    "### Задание 2.\n",
    "\n",
    "Проверить на совместность и выяснить, сколько решений будет иметь система линейных уравнений:\n",
    "\n",
    "   а) $\\begin{cases}\n",
    "3x_{1}-x_{2}+x_{3}=4, \\\\\n",
    "2x_{1}-5x_{2}-3x_{3}=-17, \\\\\n",
    "x_{1}+x_{2}-x_{3}=0;\n",
    "\\end{cases}$"
   ]
  },
  {
   "cell_type": "code",
   "execution_count": 5,
   "id": "825d0054",
   "metadata": {},
   "outputs": [],
   "source": [
    "a = np.array([[3,-1,1],[2,-5,-3],[1,1,-1]])\n",
    "a_dop = np.array([[3,-1,1,4],[2,-5,-3,-17],[1,1,-1,0]])"
   ]
  },
  {
   "cell_type": "code",
   "execution_count": 6,
   "id": "85f11364",
   "metadata": {},
   "outputs": [],
   "source": [
    "def analyse_matrix(a, a_dop):\n",
    "    if len(a[0]) == matrix_rank(a) and len(a[0]) == matrix_rank(a_dop):\n",
    "        print('Система определена, и имеет единственное решение')\n",
    "    elif len(a[0]) > matrix_rank(a) and matrix_rank(a) == matrix_rank(a_dop):\n",
    "        print('Система имеет бесконечное количество решений')\n",
    "    elif matrix_rank(a_dop) > matrix_rank(a):\n",
    "        print('Система несовместна')\n",
    "    else:\n",
    "        return 'error'"
   ]
  },
  {
   "cell_type": "code",
   "execution_count": 7,
   "id": "b99a9940",
   "metadata": {
    "scrolled": true
   },
   "outputs": [
    {
     "name": "stdout",
     "output_type": "stream",
     "text": [
      "Система определена, и имеет единственное решение\n"
     ]
    }
   ],
   "source": [
    "analyse_matrix(a, a_dop)"
   ]
  },
  {
   "cell_type": "markdown",
   "id": "44a4b24e",
   "metadata": {},
   "source": [
    "   б) $\\begin{cases}\n",
    "2x_{1}-4x_{2}+6x_{3}=1, \\\\\n",
    "x_{1}-2x_{2}+3x_{3}=-2, \\\\\n",
    "3x_{1}-6x_{2}+9x_{3}=5;\n",
    "\\end{cases}$"
   ]
  },
  {
   "cell_type": "code",
   "execution_count": 8,
   "id": "60403f8a",
   "metadata": {},
   "outputs": [],
   "source": [
    "a = np.array([[2,-4,6],[1,-2,3],[3,-6,9]])\n",
    "a_dop = np.array([[2,-4,6,1],[1,-2,3,-2],[3,-6,9,5]])"
   ]
  },
  {
   "cell_type": "code",
   "execution_count": 9,
   "id": "223b56f8",
   "metadata": {},
   "outputs": [
    {
     "name": "stdout",
     "output_type": "stream",
     "text": [
      "Система несовместна\n"
     ]
    }
   ],
   "source": [
    "analyse_matrix(a, a_dop)"
   ]
  },
  {
   "cell_type": "markdown",
   "id": "3bcb09f4",
   "metadata": {},
   "source": [
    "   в) $\\begin{cases}\n",
    "x_{1}+2x_{2}+5x_{3}=4, \\\\\n",
    "3x_{1}+x_{2}-8x_{3}=-2. \n",
    "\\end{cases}$\n"
   ]
  },
  {
   "cell_type": "code",
   "execution_count": 10,
   "id": "40ccc06f",
   "metadata": {},
   "outputs": [],
   "source": [
    "a = np.array([[1,2,5],[3,1,-8]])\n",
    "a_dop = np.array([[1,2,5,4],[3,1,-8,-2]])"
   ]
  },
  {
   "cell_type": "code",
   "execution_count": 11,
   "id": "cb4569b8",
   "metadata": {},
   "outputs": [
    {
     "name": "stdout",
     "output_type": "stream",
     "text": [
      "Система имеет бесконечное количество решений\n"
     ]
    }
   ],
   "source": [
    "analyse_matrix(a, a_dop)"
   ]
  },
  {
   "cell_type": "markdown",
   "id": "d2eaf84b",
   "metadata": {},
   "source": [
    "### Задание 3.\n",
    "Проверить на совместность и выяснить, сколько решений будет иметь система линейных уравнений, заданная расширенной матрицей\n",
    "\n",
    "$$\\tilde{A}=\\begin{pmatrix}\n",
    "\\left.\\begin{matrix}\n",
    "1 & 3 & -2 & 4\\\\ \n",
    "0 & 5 & 0 & 1\\\\ \n",
    "0 & 0 & 3 & 0\\\\ \n",
    "0 & 0 & 0 & 2\n",
    "\\end{matrix}\\right|\n",
    "\\begin{matrix}\n",
    "3\\\\ \n",
    "2\\\\\n",
    "4\\\\\n",
    "1\n",
    "\\end{matrix}\n",
    "\\end{pmatrix}.$$"
   ]
  },
  {
   "cell_type": "code",
   "execution_count": 12,
   "id": "c2e48a22",
   "metadata": {},
   "outputs": [],
   "source": [
    "a = np.array([[1,3,-2,4],[0,5,0,1],[0,0,3,0],[0,0,0,2]])\n",
    "a_dop = np.array([[1,3,-2,4,3],[0,5,0,1,2],[0,0,3,0,4],[0,0,0,2,1]])"
   ]
  },
  {
   "cell_type": "code",
   "execution_count": 13,
   "id": "6344a202",
   "metadata": {},
   "outputs": [
    {
     "name": "stdout",
     "output_type": "stream",
     "text": [
      "Система определена, и имеет единственное решение\n"
     ]
    }
   ],
   "source": [
    "analyse_matrix(a, a_dop)"
   ]
  },
  {
   "cell_type": "markdown",
   "id": "0757d416",
   "metadata": {},
   "source": [
    "### Задание 4.\n",
    "Дана система линейных уравнений, заданная расширенной матрицей\n",
    "\n",
    "$$\\tilde{A}=\\begin{pmatrix}\n",
    "\\left.\\begin{matrix}\n",
    "1 & 2 & 3\\\\ \n",
    "4 & 5 & 6\\\\ \n",
    "7 & 8 & 9\n",
    "\\end{matrix}\\right|\n",
    "\\begin{matrix}\n",
    "a\\\\ \n",
    "b\\\\\n",
    "c\n",
    "\\end{matrix}\n",
    "\\end{pmatrix}.$$\n",
    "\n",
    "Найти соотношение между параметрами $a$, $b$ и $c$, при которых система является несовместной."
   ]
  },
  {
   "cell_type": "markdown",
   "id": "650416ef",
   "metadata": {},
   "source": [
    "Согласно Теореме Кронекера — Капелли: если $rankA<rank \\tilde A$, то система несовместна.\n",
    "\n",
    "Нам дана дополненная матрица, определим матрицу $A$:\n",
    "\n",
    "$$A=\\begin{pmatrix}\n",
    "1 & 2 & 3\\\\ \n",
    "4 & 5 & 6\\\\ \n",
    "7 & 8 & 9\n",
    "\\end{pmatrix}.$$"
   ]
  },
  {
   "cell_type": "code",
   "execution_count": 14,
   "id": "05c8e4cd",
   "metadata": {},
   "outputs": [],
   "source": [
    "a = np.array([[1,2,3],[4,5,6],[7,8,9]])"
   ]
  },
  {
   "cell_type": "markdown",
   "id": "85415b03",
   "metadata": {},
   "source": [
    "Ранг матрицы $A$ = 2:"
   ]
  },
  {
   "cell_type": "code",
   "execution_count": 15,
   "id": "fd69363e",
   "metadata": {},
   "outputs": [
    {
     "data": {
      "text/plain": [
       "2"
      ]
     },
     "execution_count": 15,
     "metadata": {},
     "output_type": "execute_result"
    }
   ],
   "source": [
    "matrix_rank(a)"
   ]
  },
  {
   "cell_type": "markdown",
   "id": "2f8ca69a",
   "metadata": {},
   "source": [
    "Соответственно, ранг $\\tilde{A}$ должен быть >2\n",
    "\n",
    "Посмотрим на ранг $\\tilde{A}$ и определим условие несовместимости:"
   ]
  },
  {
   "cell_type": "markdown",
   "id": "e24deebd",
   "metadata": {},
   "source": [
    "Из второй строки вычтем первую, умноженную на 4:\n",
    "\n",
    "$$\\tilde{A}=\\begin{pmatrix}\n",
    "\\left.\\begin{matrix}\n",
    "1 & 2 & 3\\\\ \n",
    "0 & -3 & -6\\\\ \n",
    "7 & 8 & 9\n",
    "\\end{matrix}\\right|\n",
    "\\begin{matrix}\n",
    "a\\\\ \n",
    "b - 4a\\\\\n",
    "c\n",
    "\\end{matrix}\n",
    "\\end{pmatrix}.$$\n",
    "\n",
    "Из третей строчки вычтем первую, умноженную на 7:\n",
    "\n",
    "$$\\tilde{A}=\\begin{pmatrix}\n",
    "\\left.\\begin{matrix}\n",
    "1 & 2 & 3\\\\ \n",
    "0 & -3 & -6\\\\ \n",
    "0 & -6 & -12\n",
    "\\end{matrix}\\right|\n",
    "\\begin{matrix}\n",
    "a\\\\ \n",
    "b - 4a\\\\\n",
    "c - 7a\n",
    "\\end{matrix}\n",
    "\\end{pmatrix}.$$\n",
    "\n",
    "Из третей строчки вычтем вторую, умноженную на 2:\n",
    "\n",
    "$$\\tilde{A}=\\begin{pmatrix}\n",
    "\\left.\\begin{matrix}\n",
    "1 & 2 & 3\\\\ \n",
    "0 & -3 & -6\\\\ \n",
    "0 & 0 & 0\n",
    "\\end{matrix}\\right|\n",
    "\\begin{matrix}\n",
    "a\\\\ \n",
    "b - 4a\\\\\n",
    "(c - 7a) - 2(b - 4a)\n",
    "\\end{matrix}\n",
    "\\end{pmatrix}.$$"
   ]
  },
  {
   "cell_type": "markdown",
   "id": "1cdc5158",
   "metadata": {},
   "source": [
    "Видим, что ранг матрицы $A$ действительно равен 2. Соответственно, для того, чтобы ранг матрицы $\\tilde{A}$ был больше 2-ух, необходимо, чтобы выражение $(c - 7a) - 2(b - 4a) \\neq 0$. В противном случае, ранг матрицы $\\tilde{A}$ так же будет равным 2-ум, а нас это не устраивает.\n",
    "\n",
    "Раскрыв скобки, мы получаем следующее уравнение, при выполнении которого, система линейных уравнений, заданная расширенной матрицей $\\tilde{A}$ несовместна: $$a - 2b + c \\neq 0$$\n",
    "\n",
    "Ведь, если это уравнение будет равно нулю, тогда мы сможем просто вычеркнуть последнюю строчку, и ранк $\\tilde{A}$ станет равен двум, что противоречит условию несовместимости."
   ]
  },
  {
   "cell_type": "markdown",
   "id": "10bcadfb",
   "metadata": {},
   "source": [
    "Придумаем такие $a, b, c$, что уравнение $a - 2b + c = 0$, в таком случае система уравнений будет совместима.\n",
    "Например:\n",
    "\n",
    "$$a=10\\\\b=18\\\\c=26$$\n",
    "\n",
    "$$10 - 36 + 26 = 0$$"
   ]
  },
  {
   "cell_type": "code",
   "execution_count": 16,
   "id": "2d77b8ec",
   "metadata": {},
   "outputs": [
    {
     "name": "stdout",
     "output_type": "stream",
     "text": [
      "Система имеет бесконечное количество решений\n"
     ]
    }
   ],
   "source": [
    "a_dop = np.array([[1,2,3,10],[4,5,6,18],[7,8,9,26]])\n",
    "analyse_matrix(a, a_dop)"
   ]
  },
  {
   "cell_type": "markdown",
   "id": "7d9a26e7",
   "metadata": {},
   "source": [
    "Действительно, используя созданную функцию analyse_matrix, мы видим, что в таком случчае система имеет бесконечное кол-во решений.\n",
    "\n",
    "Изменив $a=10$, например, на $a=12$ наше уравнение приобретает вид $a - 2b + c \\neq 0$, и в таком случае, система уравнений становится несовместимой."
   ]
  },
  {
   "cell_type": "code",
   "execution_count": 17,
   "id": "7660bdbd",
   "metadata": {},
   "outputs": [
    {
     "name": "stdout",
     "output_type": "stream",
     "text": [
      "Система несовместна\n"
     ]
    }
   ],
   "source": [
    "a_dop = np.array([[1,2,3,12],[4,5,6,18],[7,8,9,26]])\n",
    "analyse_matrix(a, a_dop)"
   ]
  },
  {
   "cell_type": "markdown",
   "id": "69a1a19a",
   "metadata": {},
   "source": [
    "## Практическое задание. Часть 2."
   ]
  },
  {
   "cell_type": "markdown",
   "id": "b91199ea",
   "metadata": {},
   "source": [
    "Решить систему уравнений методом Крамера:\n",
    "\n",
    "   а) $\\begin{cases}\n",
    "x_{1}-2x_{2}=1 \\\\\n",
    "3x_{1}-4x_{2}=7\n",
    "\\end{cases}$"
   ]
  },
  {
   "cell_type": "code",
   "execution_count": 18,
   "id": "99306079",
   "metadata": {
    "scrolled": false
   },
   "outputs": [
    {
     "name": "stdout",
     "output_type": "stream",
     "text": [
      "Определитель матрицы = 2.0, а значит можно воспользоваться правилом Крамера.\n"
     ]
    }
   ],
   "source": [
    "a = np.array([[1, -2], [3, -4]])\n",
    "print(f'Определитель матрицы = {round(det(a),0)}, а значит можно воспользоваться правилом Крамера.')"
   ]
  },
  {
   "cell_type": "markdown",
   "id": "7fddffcd",
   "metadata": {},
   "source": [
    "Определим дополнительные матрицы, получаемые заменой i-го столбца на вектор-столбец свободных членов b."
   ]
  },
  {
   "cell_type": "code",
   "execution_count": 19,
   "id": "296fee72",
   "metadata": {},
   "outputs": [
    {
     "data": {
      "text/plain": [
       "array([[ 1, -2],\n",
       "       [ 7, -4]])"
      ]
     },
     "execution_count": 19,
     "metadata": {},
     "output_type": "execute_result"
    }
   ],
   "source": [
    "a_1 = np.array([[1, -2], [7, -4]])\n",
    "a_1"
   ]
  },
  {
   "cell_type": "code",
   "execution_count": 20,
   "id": "43666f6d",
   "metadata": {},
   "outputs": [
    {
     "data": {
      "text/plain": [
       "array([[1, 1],\n",
       "       [3, 7]])"
      ]
     },
     "execution_count": 20,
     "metadata": {},
     "output_type": "execute_result"
    }
   ],
   "source": [
    "a_2 = np.array([[1, 1], [3, 7]])\n",
    "a_2"
   ]
  },
  {
   "cell_type": "markdown",
   "id": "e51fefe3",
   "metadata": {},
   "source": [
    "Находим решения системы уравнений:"
   ]
  },
  {
   "cell_type": "code",
   "execution_count": 21,
   "id": "e2324b6b",
   "metadata": {},
   "outputs": [
    {
     "name": "stdout",
     "output_type": "stream",
     "text": [
      "x1 = 5.0\n",
      "x2 = 2.0\n"
     ]
    }
   ],
   "source": [
    "x1 = round(det(a_1)/det(a),0)\n",
    "x2 = round(det(a_2)/det(a),0)\n",
    "print(f'x1 = {x1}\\nx2 = {x2}')"
   ]
  },
  {
   "cell_type": "markdown",
   "id": "b32bf09f",
   "metadata": {},
   "source": [
    "    \n",
    "   б) $\\begin{cases}\n",
    "2x_{1}-x_{2}+5x_{3}=10 \\\\\n",
    "x_{1}+x_{2}-3x_{3}=-2 \\\\\n",
    "2x_{1}+4x_{2}+x_{3}=1\n",
    "\\end{cases}$"
   ]
  },
  {
   "cell_type": "code",
   "execution_count": 22,
   "id": "50051e7d",
   "metadata": {
    "scrolled": false
   },
   "outputs": [
    {
     "name": "stdout",
     "output_type": "stream",
     "text": [
      "Определитель матрицы = 43.0, а значит можно воспользоваться правилом Крамера.\n"
     ]
    }
   ],
   "source": [
    "a = np.array([[2, -1, 5], [1, 1, -3],[2, 4, 1]])\n",
    "print(f'Определитель матрицы = {round(det(a),0)}, а значит можно воспользоваться правилом Крамера.')"
   ]
  },
  {
   "cell_type": "markdown",
   "id": "f713d62c",
   "metadata": {},
   "source": [
    "Определим дополнительные матрицы, получаемые заменой i-го столбца на вектор-столбец свободных членов b."
   ]
  },
  {
   "cell_type": "code",
   "execution_count": 23,
   "id": "5e3875c9",
   "metadata": {},
   "outputs": [
    {
     "data": {
      "text/plain": [
       "array([[10, -1,  5],\n",
       "       [-2,  1, -3],\n",
       "       [ 1,  4,  1]])"
      ]
     },
     "execution_count": 23,
     "metadata": {},
     "output_type": "execute_result"
    }
   ],
   "source": [
    "a_1 = np.array([[10, -1, 5], [-2, 1, -3], [1, 4, 1]])\n",
    "a_1"
   ]
  },
  {
   "cell_type": "code",
   "execution_count": 24,
   "id": "20ccbf9b",
   "metadata": {},
   "outputs": [
    {
     "data": {
      "text/plain": [
       "array([[ 2, 10,  5],\n",
       "       [ 1, -2, -3],\n",
       "       [ 2,  1,  1]])"
      ]
     },
     "execution_count": 24,
     "metadata": {},
     "output_type": "execute_result"
    }
   ],
   "source": [
    "a_2 = np.array([[2, 10, 5], [1, -2, -3], [2, 1, 1]])\n",
    "a_2"
   ]
  },
  {
   "cell_type": "code",
   "execution_count": 25,
   "id": "54024289",
   "metadata": {},
   "outputs": [
    {
     "data": {
      "text/plain": [
       "array([[ 2, -1, 10],\n",
       "       [ 1,  1, -2],\n",
       "       [ 2,  4,  1]])"
      ]
     },
     "execution_count": 25,
     "metadata": {},
     "output_type": "execute_result"
    }
   ],
   "source": [
    "a_3 = np.array([[2, -1, 10], [1, 1, -2], [2, 4, 1]])\n",
    "a_3"
   ]
  },
  {
   "cell_type": "markdown",
   "id": "56199a01",
   "metadata": {},
   "source": [
    "Находим решения системы уравнений:"
   ]
  },
  {
   "cell_type": "code",
   "execution_count": 26,
   "id": "996bfa58",
   "metadata": {},
   "outputs": [
    {
     "name": "stdout",
     "output_type": "stream",
     "text": [
      "x1 = 2.0\n",
      "x2 = -1.0\n",
      "x3 = 1.0\n"
     ]
    }
   ],
   "source": [
    "x1 = round(det(a_1)/det(a),0)\n",
    "x2 = round(det(a_2)/det(a),0)\n",
    "x3 = round(det(a_3)/det(a),0)\n",
    "print(f'x1 = {x1}\\nx2 = {x2}\\nx3 = {x3}')"
   ]
  },
  {
   "cell_type": "markdown",
   "id": "0a5ab078",
   "metadata": {},
   "source": [
    "### Задание 2.\n",
    "Найти $L$-матрицу $LU$-разложения для матрицы коэффициентов:\n",
    "\n",
    "   а)$$\\begin{pmatrix}\n",
    "1 & 2 & 4 \\\\ \n",
    "2 & 9 & 12 \\\\ \n",
    "3 & 26 & 30\n",
    "\\end{pmatrix}$$\n"
   ]
  },
  {
   "cell_type": "code",
   "execution_count": 27,
   "id": "0cfbab33",
   "metadata": {},
   "outputs": [],
   "source": [
    "a = np.array([[1,2,4],[2,9,12],[3,26,30]])"
   ]
  },
  {
   "cell_type": "markdown",
   "id": "7de00ce0",
   "metadata": {},
   "source": [
    "Создадим функцию, для LU разложения матрицы: (Заодно сделаем задание 5)"
   ]
  },
  {
   "cell_type": "code",
   "execution_count": 28,
   "id": "2b501346",
   "metadata": {
    "scrolled": true
   },
   "outputs": [],
   "source": [
    "def lu_decomposition(a):\n",
    "    a_dop = np.identity(len(a))\n",
    "    for i in range(len(a)):\n",
    "        for j in range(len(a)):\n",
    "            if i != j and j>=i:\n",
    "                to_add = a[j][i]/a[i][i]\n",
    "                a_dop[j][i] = to_add\n",
    "                a[j] = a[j] - to_add*(a[i])\n",
    "    return(a_dop, a)"
   ]
  },
  {
   "cell_type": "code",
   "execution_count": 29,
   "id": "177d5475",
   "metadata": {},
   "outputs": [],
   "source": [
    "L, U = lu_decomposition(a)"
   ]
  },
  {
   "cell_type": "code",
   "execution_count": 30,
   "id": "6529541b",
   "metadata": {
    "scrolled": true
   },
   "outputs": [
    {
     "name": "stdout",
     "output_type": "stream",
     "text": [
      "L = \n",
      "[[1. 0. 0.]\n",
      " [2. 1. 0.]\n",
      " [3. 4. 1.]]\n",
      "U = \n",
      "[[1 2 4]\n",
      " [0 5 4]\n",
      " [0 0 2]]\n"
     ]
    }
   ],
   "source": [
    "print(f'L = \\n{L}\\nU = \\n{U}')"
   ]
  },
  {
   "cell_type": "markdown",
   "id": "ed20dcd0",
   "metadata": {},
   "source": [
    "    \n",
    "   б)$$\\begin{pmatrix}\n",
    "1 & 1 & 2 & 4\\\\ \n",
    "2 & 5 & 8 & 9\\\\ \n",
    "3 & 18 & 29 & 18\\\\\n",
    "4 & 22 & 53 & 33\n",
    "\\end{pmatrix}$$"
   ]
  },
  {
   "cell_type": "code",
   "execution_count": 31,
   "id": "95aa506b",
   "metadata": {},
   "outputs": [],
   "source": [
    "a = np.array([[1, 1, 2, 4], [2, 5, 8, 9], [3, 18, 29, 18], [4, 22, 53, 33]])"
   ]
  },
  {
   "cell_type": "code",
   "execution_count": 32,
   "id": "b01b32fa",
   "metadata": {},
   "outputs": [],
   "source": [
    "L, U = lu_decomposition(a)"
   ]
  },
  {
   "cell_type": "code",
   "execution_count": 33,
   "id": "9ea5ea4e",
   "metadata": {},
   "outputs": [
    {
     "name": "stdout",
     "output_type": "stream",
     "text": [
      "L = \n",
      "[[1. 0. 0. 0.]\n",
      " [2. 1. 0. 0.]\n",
      " [3. 5. 1. 0.]\n",
      " [4. 6. 7. 1.]]\n",
      "U = \n",
      "[[1 1 2 4]\n",
      " [0 3 4 1]\n",
      " [0 0 3 1]\n",
      " [0 0 0 4]]\n"
     ]
    }
   ],
   "source": [
    "print(f'L = \\n{L}\\nU = \\n{U}')"
   ]
  },
  {
   "cell_type": "markdown",
   "id": "3a9abd81",
   "metadata": {},
   "source": [
    "### Задача 3.\n",
    "Решить систему линейных уравнений методом $LU$-разложения\n",
    "\n",
    "$$\\begin{cases}\n",
    "2x_{1}+x_{2}+3x_{3}=1 \\\\\n",
    "11x_{1}+7x_{2}+5x_{3}=-6 \\\\\n",
    "9x_{1}+8x_{2}+4x_{3}=-5\n",
    "\\end{cases}$$"
   ]
  },
  {
   "cell_type": "code",
   "execution_count": 34,
   "id": "4c950f6a",
   "metadata": {},
   "outputs": [],
   "source": [
    "a = np.array([[2, 1, 3], [11, 7, 5], [9, 8, 4]])"
   ]
  },
  {
   "cell_type": "code",
   "execution_count": 35,
   "id": "46537c70",
   "metadata": {},
   "outputs": [],
   "source": [
    "L, U = lu_decomposition(a)"
   ]
  },
  {
   "cell_type": "code",
   "execution_count": 36,
   "id": "7fe77713",
   "metadata": {},
   "outputs": [
    {
     "name": "stdout",
     "output_type": "stream",
     "text": [
      "L = \n",
      "[[1.  0.  0. ]\n",
      " [5.5 1.  0. ]\n",
      " [4.5 3.  1. ]]\n",
      "U = \n",
      "[[  2   1   3]\n",
      " [  0   1 -11]\n",
      " [  0   0  24]]\n"
     ]
    }
   ],
   "source": [
    "print(f'L = \\n{L}\\nU = \\n{U}')"
   ]
  },
  {
   "cell_type": "markdown",
   "id": "b62b2dcb",
   "metadata": {},
   "source": [
    "Решим теперь систему \n",
    "\n",
    "$$Ly=b:$$\n",
    "\n",
    "$$\\begin{cases}\n",
    "y_{1}=1, \\\\\n",
    "5.5y_{1}+y_{2}=-6, \\\\\n",
    "4.5y_{1}+3y_{2}+y_{3}=-5.\n",
    "\\end{cases}$$\n",
    "\n",
    "$$y_{1}=1,$$\n",
    "$$y_{2}=-11.5,$$\n",
    "$$y_{3}=25.$$\n",
    "\n",
    "И затем систему\n",
    "\n",
    "$$Ux=y:$$\n",
    "\n",
    "$$\\begin{cases}\n",
    "2x_{1}+x_{2}+3x_{3}=1, \\\\\n",
    "x_{2} - 11x_{3}=-11.5, \\\\\n",
    "24x_{3}=25.\n",
    "\\end{cases}$$\n",
    "\n",
    "$$x_{3}=25/24,$$\n",
    "$$x_{2}=-1/24,$$\n",
    "$$x_{1}=-25/24.$$"
   ]
  },
  {
   "cell_type": "markdown",
   "id": "14a4aa02",
   "metadata": {},
   "source": [
    "### Задание 4.\n",
    "Решить систему линейных уравнений методом Холецкого\n",
    "\n",
    "$$\\begin{cases}\n",
    "81x_{1}-45x_{2}+45x_{3}=531 \\\\\n",
    "-45x_{1}+50x_{2}-15x_{3}=-460 \\\\\n",
    "45x_{1}-15x_{2}+38x_{3}=193\n",
    "\\end{cases}$$"
   ]
  },
  {
   "cell_type": "code",
   "execution_count": 37,
   "id": "ce2f08c7",
   "metadata": {},
   "outputs": [],
   "source": [
    "a = np.array([[81, -45, 45], [-45, 50, -15], [45, -15, 38]])"
   ]
  },
  {
   "cell_type": "markdown",
   "id": "bd1757ea",
   "metadata": {},
   "source": [
    "Произведем разложение на $LL^{T}$:\n",
    "\n",
    "$$l_{11}=\\sqrt{a_{11}}=9,$$\n",
    "$$l_{21}=\\frac{a_{21}}{l_{11}}=-5,$$\n",
    "$$l_{31}=\\frac{a_{31}}{l_{11}}=5,$$\n",
    "\n",
    "$$l_{22}=\\sqrt{a_{22}-l_{21}^{2}}=\\sqrt{50 - 25}=5,$$\n",
    "$$l_{32}=\\frac{1}{l_{22}}\\left ( a_{32}-l_{21}l_{31} \\right)=\\frac{1}{5}\\left ((-15) - (-5)\\cdot(5) \\right )=2,$$\n",
    "\n",
    "$$l_{33}=\\sqrt{a_{33}-l_{31}^{2}-l_{32}^{2}}=\\sqrt{38 - 25 - 4}=3.$$\n"
   ]
  },
  {
   "cell_type": "code",
   "execution_count": 38,
   "id": "fdce0950",
   "metadata": {},
   "outputs": [],
   "source": [
    "L_T = np.array([[ 9., -5.,  5.],\n",
    "                [ 0.,  5.,  2.],\n",
    "                [ 0.,  0.,  3.]])\n",
    "L = L_T.T"
   ]
  },
  {
   "cell_type": "code",
   "execution_count": 39,
   "id": "b1008266",
   "metadata": {},
   "outputs": [
    {
     "data": {
      "text/plain": [
       "array([[ 9.,  0.,  0.],\n",
       "       [-5.,  5.,  0.],\n",
       "       [ 5.,  2.,  3.]])"
      ]
     },
     "execution_count": 39,
     "metadata": {},
     "output_type": "execute_result"
    }
   ],
   "source": [
    "L"
   ]
  },
  {
   "cell_type": "markdown",
   "id": "717c225e",
   "metadata": {},
   "source": [
    "Решим систему $Ly=b:$\n",
    "\n",
    "$$\\begin{cases}\n",
    "9y_{1}=531, \\\\\n",
    "-5y_{1}+5y_{2}=-460, \\\\\n",
    "5y_{1}+2y_{2}+3y_{3}=193.\n",
    "\\end{cases}$$\n",
    "\n",
    "$$y_{1} = 59,$$\n",
    "\n",
    "$$y_{2}= -33,$$\n",
    "\n",
    "$$y_{3}=-12.$$"
   ]
  },
  {
   "cell_type": "markdown",
   "id": "f40e065e",
   "metadata": {},
   "source": [
    "И решим систему $L^{T}x=y:$\n",
    "\n",
    "$$\\begin{cases}\n",
    "9x_{1}-5x_{2}+5x_{3}=59, \\\\\n",
    "5x_{2}+2x_{3}=-33, \\\\\n",
    "3x_{3}=-12.\n",
    "\\end{cases}$$\n",
    "\n",
    "$$x_{3}=-4,$$\n",
    "\n",
    "$$x_{2}=-5,$$\n",
    "\n",
    "$$x_{1}=6.$$"
   ]
  },
  {
   "cell_type": "markdown",
   "id": "23dfb3de",
   "metadata": {},
   "source": [
    "### Задание 5.\n",
    "Написать на Python программу с реализацией одного из изученных алгоритмов решения СЛАУ.\n",
    "\n",
    "Решено в Задании 2, функция lu_decomposition()."
   ]
  }
 ],
 "metadata": {
  "kernelspec": {
   "display_name": "Python 3",
   "language": "python",
   "name": "python3"
  },
  "language_info": {
   "codemirror_mode": {
    "name": "ipython",
    "version": 3
   },
   "file_extension": ".py",
   "mimetype": "text/x-python",
   "name": "python",
   "nbconvert_exporter": "python",
   "pygments_lexer": "ipython3",
   "version": "3.8.10"
  }
 },
 "nbformat": 4,
 "nbformat_minor": 5
}
